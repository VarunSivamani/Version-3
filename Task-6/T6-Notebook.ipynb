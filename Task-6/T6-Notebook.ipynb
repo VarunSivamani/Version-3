{
 "cells": [
  {
   "cell_type": "code",
   "execution_count": 1,
   "metadata": {
    "id": "g_EIu0UyFG8E"
   },
   "outputs": [],
   "source": [
    "!pip install -r requirements.txt --q"
   ]
  },
  {
   "cell_type": "code",
   "execution_count": 2,
   "metadata": {
    "colab": {
     "base_uri": "https://localhost:8080/"
    },
    "id": "fSUvwX3oFG8F",
    "outputId": "62154f88-f59e-443a-cd9d-2e05e8ffd8f5"
   },
   "outputs": [
    {
     "name": "stdout",
     "output_type": "stream",
     "text": [
      "Downloading http://yann.lecun.com/exdb/mnist/train-images-idx3-ubyte.gz\n",
      "Failed to download (trying next):\n",
      "HTTP Error 403: Forbidden\n",
      "\n",
      "Downloading https://ossci-datasets.s3.amazonaws.com/mnist/train-images-idx3-ubyte.gz\n",
      "Downloading https://ossci-datasets.s3.amazonaws.com/mnist/train-images-idx3-ubyte.gz to ./data/MNIST/raw/train-images-idx3-ubyte.gz\n",
      "100% 9.91M/9.91M [00:00<00:00, 17.6MB/s]\n",
      "Extracting ./data/MNIST/raw/train-images-idx3-ubyte.gz to ./data/MNIST/raw\n",
      "\n",
      "Downloading http://yann.lecun.com/exdb/mnist/train-labels-idx1-ubyte.gz\n",
      "Failed to download (trying next):\n",
      "HTTP Error 403: Forbidden\n",
      "\n",
      "Downloading https://ossci-datasets.s3.amazonaws.com/mnist/train-labels-idx1-ubyte.gz\n",
      "Downloading https://ossci-datasets.s3.amazonaws.com/mnist/train-labels-idx1-ubyte.gz to ./data/MNIST/raw/train-labels-idx1-ubyte.gz\n",
      "100% 28.9k/28.9k [00:00<00:00, 466kB/s]\n",
      "Extracting ./data/MNIST/raw/train-labels-idx1-ubyte.gz to ./data/MNIST/raw\n",
      "\n",
      "Downloading http://yann.lecun.com/exdb/mnist/t10k-images-idx3-ubyte.gz\n",
      "Failed to download (trying next):\n",
      "HTTP Error 403: Forbidden\n",
      "\n",
      "Downloading https://ossci-datasets.s3.amazonaws.com/mnist/t10k-images-idx3-ubyte.gz\n",
      "Downloading https://ossci-datasets.s3.amazonaws.com/mnist/t10k-images-idx3-ubyte.gz to ./data/MNIST/raw/t10k-images-idx3-ubyte.gz\n",
      "100% 1.65M/1.65M [00:00<00:00, 4.40MB/s]\n",
      "Extracting ./data/MNIST/raw/t10k-images-idx3-ubyte.gz to ./data/MNIST/raw\n",
      "\n",
      "Downloading http://yann.lecun.com/exdb/mnist/t10k-labels-idx1-ubyte.gz\n",
      "Failed to download (trying next):\n",
      "HTTP Error 403: Forbidden\n",
      "\n",
      "Downloading https://ossci-datasets.s3.amazonaws.com/mnist/t10k-labels-idx1-ubyte.gz\n",
      "Downloading https://ossci-datasets.s3.amazonaws.com/mnist/t10k-labels-idx1-ubyte.gz to ./data/MNIST/raw/t10k-labels-idx1-ubyte.gz\n",
      "100% 4.54k/4.54k [00:00<00:00, 13.0MB/s]\n",
      "Extracting ./data/MNIST/raw/t10k-labels-idx1-ubyte.gz to ./data/MNIST/raw\n",
      "\n"
     ]
    }
   ],
   "source": [
    "!python setup.py"
   ]
  },
  {
   "cell_type": "code",
   "execution_count": 3,
   "metadata": {
    "colab": {
     "base_uri": "https://localhost:8080/"
    },
    "id": "rb4ocwCHFG8G",
    "outputId": "c9e4487e-df7d-449e-a16b-1292ffc552c8"
   },
   "outputs": [
    {
     "name": "stdout",
     "output_type": "stream",
     "text": [
      "----------------------------------------------------------------\n",
      "        Layer (type)               Output Shape         Param #\n",
      "================================================================\n",
      "            Conv2d-1            [-1, 8, 26, 26]              72\n",
      "              ReLU-2            [-1, 8, 26, 26]               0\n",
      "            Conv2d-3           [-1, 16, 24, 24]           1,152\n",
      "              ReLU-4           [-1, 16, 24, 24]               0\n",
      "       BatchNorm2d-5           [-1, 16, 24, 24]              32\n",
      "           Dropout-6           [-1, 16, 24, 24]               0\n",
      "            Conv2d-7            [-1, 8, 24, 24]             128\n",
      "         MaxPool2d-8            [-1, 8, 12, 12]               0\n",
      "            Conv2d-9           [-1, 16, 10, 10]           1,152\n",
      "             ReLU-10           [-1, 16, 10, 10]               0\n",
      "      BatchNorm2d-11           [-1, 16, 10, 10]              32\n",
      "          Dropout-12           [-1, 16, 10, 10]               0\n",
      "           Conv2d-13              [-1, 8, 8, 8]           1,152\n",
      "             ReLU-14              [-1, 8, 8, 8]               0\n",
      "      BatchNorm2d-15              [-1, 8, 8, 8]              16\n",
      "          Dropout-16              [-1, 8, 8, 8]               0\n",
      "           Conv2d-17             [-1, 16, 6, 6]           1,152\n",
      "             ReLU-18             [-1, 16, 6, 6]               0\n",
      "      BatchNorm2d-19             [-1, 16, 6, 6]              32\n",
      "          Dropout-20             [-1, 16, 6, 6]               0\n",
      "           Conv2d-21             [-1, 16, 4, 4]           2,304\n",
      "             ReLU-22             [-1, 16, 4, 4]               0\n",
      "      BatchNorm2d-23             [-1, 16, 4, 4]              32\n",
      "          Dropout-24             [-1, 16, 4, 4]               0\n",
      "        AvgPool2d-25             [-1, 16, 1, 1]               0\n",
      "           Conv2d-26             [-1, 10, 1, 1]             160\n",
      "================================================================\n",
      "Total params: 7,416\n",
      "Trainable params: 7,416\n",
      "Non-trainable params: 0\n",
      "----------------------------------------------------------------\n",
      "Input size (MB): 0.00\n",
      "Forward/backward pass size (MB): 0.50\n",
      "Params size (MB): 0.03\n",
      "Estimated Total Size (MB): 0.53\n",
      "----------------------------------------------------------------\n"
     ]
    }
   ],
   "source": [
    "!python model.py"
   ]
  },
  {
   "cell_type": "code",
   "execution_count": 4,
   "metadata": {
    "colab": {
     "base_uri": "https://localhost:8080/"
    },
    "id": "_GRM_c_3FG8H",
    "outputId": "b827ff64-a81a-4aa9-8e48-42c31afe0661"
   },
   "outputs": [
    {
     "name": "stdout",
     "output_type": "stream",
     "text": [
      " ✅ Passed: Model has less than 25000 parameters\n",
      ".✅ Passed: Model has Batch Normalization layers\n",
      ".✅ Passed: Model has Dropout layers\n",
      ".✅ Passed: Model has Linear and GAP layers\n",
      ".\n",
      "----------------------------------------------------------------------\n",
      "Ran 4 tests in 0.009s\n",
      "\n",
      "OK\n"
     ]
    }
   ],
   "source": [
    "!python tests.py"
   ]
  },
  {
   "cell_type": "code",
   "execution_count": 5,
   "metadata": {
    "colab": {
     "base_uri": "https://localhost:8080/"
    },
    "id": "iIW4ORNqFG8H",
    "outputId": "955712b7-204d-40bb-e782-6541c99379a3"
   },
   "outputs": [
    {
     "name": "stdout",
     "output_type": "stream",
     "text": [
      "Epoch 0: \n",
      "\n",
      "Training --> Loss : 0.39084 | Accuracy : 70.22: 100% 118/118 [00:19<00:00,  6.02it/s]\n",
      "Testing  --> Loss : 0.46264 | Accuracy: 8726/10000 (87.26%)\n",
      "==================================================\n",
      "Epoch 1: \n",
      "\n",
      "Training --> Loss : 0.22514 | Accuracy : 94.94: 100% 118/118 [00:19<00:00,  6.02it/s]\n",
      "Testing  --> Loss : 0.25517 | Accuracy: 9244/10000 (92.44%)\n",
      "==================================================\n",
      "Epoch 2: \n",
      "\n",
      "Training --> Loss : 0.12069 | Accuracy : 96.81: 100% 118/118 [00:19<00:00,  6.11it/s]\n",
      "Testing  --> Loss : 0.11300 | Accuracy: 9698/10000 (96.98%)\n",
      "==================================================\n",
      "Epoch 3: \n",
      "\n",
      "Training --> Loss : 0.09392 | Accuracy : 97.47: 100% 118/118 [00:18<00:00,  6.26it/s]\n",
      "Testing  --> Loss : 0.06125 | Accuracy: 9834/10000 (98.34%)\n",
      "==================================================\n",
      "Epoch 4: \n",
      "\n",
      "Training --> Loss : 0.13318 | Accuracy : 97.75: 100% 118/118 [00:19<00:00,  6.20it/s]\n",
      "Testing  --> Loss : 0.06597 | Accuracy: 9823/10000 (98.23%)\n",
      "==================================================\n",
      "\n",
      "Model weights saved\n"
     ]
    }
   ],
   "source": [
    "!python train.py"
   ]
  },
  {
   "cell_type": "code",
   "execution_count": 6,
   "metadata": {
    "colab": {
     "base_uri": "https://localhost:8080/"
    },
    "id": "1kO-j0esFG8I",
    "outputId": "b919f66b-9b28-48b9-9109-e2a67aa63c99"
   },
   "outputs": [
    {
     "name": "stdout",
     "output_type": "stream",
     "text": [
      "Calculating class accuracies: 100% 20/20 [00:02<00:00,  8.75it/s]\n"
     ]
    }
   ],
   "source": [
    "!python utils.py"
   ]
  },
  {
   "cell_type": "code",
   "execution_count": 7,
   "metadata": {
    "colab": {
     "base_uri": "https://localhost:8080/",
     "height": 500
    },
    "id": "xK0oFeIGdUQT",
    "outputId": "2ea01880-c147-4895-f596-a64fa47ddb3c"
   },
   "outputs": [
    {
     "data": {
      "image/png": "[encoded data removed]",
      "text/plain": [
       "<IPython.core.display.Image object>"
      ]
     },
     "metadata": {},
     "output_type": "display_data"
    }
   ],
   "source": [
    "from IPython.display import Image, display\n",
    "\n",
    "file_path = \"accuracy_per_class.png\"\n",
    "display(Image(filename = file_path))"
   ]
  }
 ],
 "metadata": {
  "accelerator": "GPU",
  "colab": {
   "gpuType": "T4",
   "provenance": []
  },
  "kernelspec": {
   "display_name": "Python 3",
   "name": "python3"
  },
  "language_info": {
   "codemirror_mode": {
    "name": "ipython",
    "version": 3
   },
   "file_extension": ".py",
   "mimetype": "text/x-python",
   "name": "python",
   "nbconvert_exporter": "python",
   "pygments_lexer": "ipython3",
   "version": "3.7.12"
  }
 },
 "nbformat": 4,
 "nbformat_minor": 0
}
